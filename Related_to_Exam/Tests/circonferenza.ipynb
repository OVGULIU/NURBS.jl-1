{
 "cells": [
  {
   "cell_type": "code",
   "execution_count": null,
   "metadata": {},
   "outputs": [],
   "source": [
    "using Plots"
   ]
  },
  {
   "cell_type": "markdown",
   "metadata": {},
   "source": [
    "# Circonferenza Julia\n",
    "\n",
    "Vettore di Posizione:\n",
    "$$\n",
    "    P(t) = \\sum_{i=1}^{n+1}B_iN_{i,k}(t), \\qquad 2 \\leq k \\leq n+1\n",
    "$$\n",
    "dove `N` indica la funzione di base:\n",
    "$$\n",
    "    N_{i,k}(t) = \\frac{(t-x_i)N_{i,k-1}(t)}{x_{i+k-1}-x_i} + \\frac{(x_{i+k}-t)N_{i+1,k-1}(t)}{x_{i+k}-x_{i+1}},\n",
    "    \\qquad \\mbox{con} \\quad\n",
    "    N_{i,1}(t) = \n",
    "    \\begin{cases}\n",
    "        1  &  \\mbox{ se } x_i < t < x_{i+1}\\\\\n",
    "        0  &  \\mbox{ altrimenti}\n",
    "    \\end{cases}\n",
    "$$\n"
   ]
  },
  {
   "cell_type": "code",
   "execution_count": 4,
   "metadata": {},
   "outputs": [],
   "source": [
    "B = [0 0;0 2;2 2];\n",
    "knotVec = [0 0 0 1 1 1];"
   ]
  },
  {
   "cell_type": "code",
   "execution_count": 76,
   "metadata": {},
   "outputs": [],
   "source": [
    "X = [0 0 0 1 2 3 3 3];\n",
    "n = 4;\n",
    "k = 3;"
   ]
  },
  {
   "cell_type": "code",
   "execution_count": 77,
   "metadata": {},
   "outputs": [
    {
     "data": {
      "text/plain": [
       "base (generic function with 2 methods)"
      ]
     },
     "execution_count": 77,
     "metadata": {},
     "output_type": "execute_result"
    }
   ],
   "source": [
    "function base(i::Int64, k::Int64, t::Float64, x::Array{Int64})\n",
    "    if k==1\n",
    "        if t>x[i] && t<x[i+1]\n",
    "            return 1\n",
    "        else\n",
    "            return 0\n",
    "        end\n",
    "    else\n",
    "        return ((t-x[i])*base(i, k-1, t, x))/(x[i+k-1]-x[i]) + ((x[i+k]-t)*base(i+1,k-1,t,x))/(x[i+k]-x[i+1])\n",
    "    end\n",
    "end"
   ]
  },
  {
   "cell_type": "code",
   "execution_count": 119,
   "metadata": {},
   "outputs": [
    {
     "data": {
      "text/plain": [
       "position (generic function with 1 method)"
      ]
     },
     "execution_count": 119,
     "metadata": {},
     "output_type": "execute_result"
    }
   ],
   "source": [
    "function position(t::Float64, B::Float64, x::Array{Int64})\n",
    "    acc = Float64;\n",
    "    for i = 1 : n+1\n",
    "        for k = 2 : n+1\n",
    "            acc = acc + B[i]+base(i,k,t,X)\n",
    "        end\n",
    "    end\n",
    "end"
   ]
  },
  {
   "cell_type": "code",
   "execution_count": 122,
   "metadata": {},
   "outputs": [
    {
     "data": {
      "text/plain": [
       "positiont (generic function with 1 method)"
      ]
     },
     "execution_count": 122,
     "metadata": {},
     "output_type": "execute_result"
    }
   ],
   "source": [
    "positiont(t)=position(t, X, B)"
   ]
  },
  {
   "cell_type": "code",
   "execution_count": 123,
   "metadata": {},
   "outputs": [
    {
     "ename": "LoadError",
     "evalue": "\u001b[91mMethodError: no method matching position(::Float64, ::Array{Int64,2}, ::Array{Int64,2})\u001b[0m\nClosest candidates are:\n  position(::Float64, \u001b[91m::Float64\u001b[39m, ::Array{Int64,N} where N) at In[119]:2\u001b[39m",
     "output_type": "error",
     "traceback": [
      "\u001b[91mMethodError: no method matching position(::Float64, ::Array{Int64,2}, ::Array{Int64,2})\u001b[0m\nClosest candidates are:\n  position(::Float64, \u001b[91m::Float64\u001b[39m, ::Array{Int64,N} where N) at In[119]:2\u001b[39m",
      "",
      "Stacktrace:",
      " [1] \u001b[1mcollect\u001b[22m\u001b[22m\u001b[1m(\u001b[22m\u001b[22m::Base.Generator{Array{Float64,1},#positiont}\u001b[1m)\u001b[22m\u001b[22m at \u001b[1m./array.jl:470\u001b[22m\u001b[22m",
      " [2] \u001b[1m#adapted_grid#33\u001b[22m\u001b[22m\u001b[1m(\u001b[22m\u001b[22m::Int64, ::Function, ::#positiont, ::Tuple{Int64,Int64}\u001b[1m)\u001b[22m\u001b[22m at \u001b[1m/Users/macbook/.julia/v0.6/PlotUtils/src/adapted_grid.jl:43\u001b[22m\u001b[22m",
      " [3] \u001b[1mmacro expansion\u001b[22m\u001b[22m at \u001b[1m/Users/macbook/.julia/v0.6/Plots/src/series.jl:513\u001b[22m\u001b[22m [inlined]",
      " [4] \u001b[1mapply_recipe\u001b[22m\u001b[22m\u001b[1m(\u001b[22m\u001b[22m::Dict{Symbol,Any}, ::Function, ::Int64, ::Int64\u001b[1m)\u001b[22m\u001b[22m at \u001b[1m/Users/macbook/.julia/v0.6/RecipesBase/src/RecipesBase.jl:291\u001b[22m\u001b[22m",
      " [5] \u001b[1m_process_userrecipes\u001b[22m\u001b[22m\u001b[1m(\u001b[22m\u001b[22m::Plots.Plot{Plots.GRBackend}, ::Dict{Symbol,Any}, ::Tuple{#positiont,Int64,Int64}\u001b[1m)\u001b[22m\u001b[22m at \u001b[1m/Users/macbook/.julia/v0.6/Plots/src/pipeline.jl:81\u001b[22m\u001b[22m",
      " [6] \u001b[1m_plot!\u001b[22m\u001b[22m\u001b[1m(\u001b[22m\u001b[22m::Plots.Plot{Plots.GRBackend}, ::Dict{Symbol,Any}, ::Tuple{#positiont,Int64,Int64}\u001b[1m)\u001b[22m\u001b[22m at \u001b[1m/Users/macbook/.julia/v0.6/Plots/src/plot.jl:179\u001b[22m\u001b[22m",
      " [7] \u001b[1m#plot#212\u001b[22m\u001b[22m\u001b[1m(\u001b[22m\u001b[22m::Array{Any,1}, ::Function, ::Function, ::Vararg{Any,N} where N\u001b[1m)\u001b[22m\u001b[22m at \u001b[1m/Users/macbook/.julia/v0.6/Plots/src/plot.jl:58\u001b[22m\u001b[22m",
      " [8] \u001b[1mplot\u001b[22m\u001b[22m\u001b[1m(\u001b[22m\u001b[22m::Function, ::Int64, ::Vararg{Int64,N} where N\u001b[1m)\u001b[22m\u001b[22m at \u001b[1m/Users/macbook/.julia/v0.6/Plots/src/plot.jl:52\u001b[22m\u001b[22m",
      " [9] \u001b[1minclude_string\u001b[22m\u001b[22m\u001b[1m(\u001b[22m\u001b[22m::String, ::String\u001b[1m)\u001b[22m\u001b[22m at \u001b[1m./loading.jl:522\u001b[22m\u001b[22m",
      " [10] \u001b[1mexecute_request\u001b[22m\u001b[22m\u001b[1m(\u001b[22m\u001b[22m::ZMQ.Socket, ::IJulia.Msg\u001b[1m)\u001b[22m\u001b[22m at \u001b[1m/Users/macbook/.julia/v0.6/IJulia/src/execute_request.jl:193\u001b[22m\u001b[22m",
      " [11] \u001b[1m(::Compat.#inner#6{Array{Any,1},IJulia.#execute_request,Tuple{ZMQ.Socket,IJulia.Msg}})\u001b[22m\u001b[22m\u001b[1m(\u001b[22m\u001b[22m\u001b[1m)\u001b[22m\u001b[22m at \u001b[1m/Users/macbook/.julia/v0.6/Compat/src/Compat.jl:189\u001b[22m\u001b[22m",
      " [12] \u001b[1meventloop\u001b[22m\u001b[22m\u001b[1m(\u001b[22m\u001b[22m::ZMQ.Socket\u001b[1m)\u001b[22m\u001b[22m at \u001b[1m/Users/macbook/.julia/v0.6/IJulia/src/eventloop.jl:8\u001b[22m\u001b[22m",
      " [13] \u001b[1m(::IJulia.##13#16)\u001b[22m\u001b[22m\u001b[1m(\u001b[22m\u001b[22m\u001b[1m)\u001b[22m\u001b[22m at \u001b[1m./task.jl:335\u001b[22m\u001b[22m"
     ]
    }
   ],
   "source": [
    "plot(positiont, 0, 3)"
   ]
  },
  {
   "cell_type": "code",
   "execution_count": null,
   "metadata": {},
   "outputs": [],
   "source": []
  },
  {
   "cell_type": "code",
   "execution_count": 15,
   "metadata": {},
   "outputs": [
    {
     "data": {
      "text/plain": [
       "basis (generic function with 1 method)"
      ]
     },
     "execution_count": 15,
     "metadata": {},
     "output_type": "execute_result"
    }
   ],
   "source": [
    "function basis(c::Int64, t::Float64, npts::Int64, x::Array{Int64})::Array{Float64}\n",
    "    temp = Array{Float64}(36);\n",
    "    n = Float64[];\n",
    "    nplusc = npts + c;\n",
    "    \n",
    "#    print(knot vector is );\n",
    "#    for i=1:nplusc\n",
    "#        print(& &, i, x[i]);\n",
    "#    end\n",
    "#    print(t is &, t);\n",
    "    \n",
    "    # calculate the first order basis functions n[i][1]\n",
    "    \n",
    "    for i=1:nplusc-1\n",
    "        if (t>=x[i])&&(t<x[i+1])\n",
    "            temp[i] = 1;\n",
    "        else\n",
    "            temp[i] = 0;\n",
    "        end\n",
    "    end\n",
    "    \n",
    "    # calculate the higher order basis functions\n",
    "    for k=2:c\n",
    "        for i=1:nplusc-k\n",
    "            if temp[i] != 0    # if the lower order basis function is zero skip the calculation\n",
    "                d = ((t-x[i])*temp[i])/(x[i+k-1]-x[i]);\n",
    "            else\n",
    "                d = 0;\n",
    "            end\n",
    "            if temp[i+1] != 0    # if the lower order basis function is zero skip the calculation\n",
    "                e = ((x[i+k]-t)*temp[i+1])/(x[i+k]-x[i+1]);\n",
    "            else\n",
    "                e = 0;\n",
    "            end\n",
    "            temp[i] = d+e;\n",
    "        end\n",
    "    end\n",
    "    \n",
    "    if t == x[nplusc]    # pick the last point\n",
    "        temp[npts] = 1;\n",
    "    end\n",
    "    \n",
    "    # put in n array\n",
    "    for i=1:npts\n",
    "        push!(n, temp[i]);\n",
    "    end\n",
    "    return n;\n",
    "end"
   ]
  },
  {
   "cell_type": "code",
   "execution_count": 17,
   "metadata": {},
   "outputs": [
    {
     "data": {
      "text/plain": [
       "3-element Array{Float64,1}:\n",
       " 0.0\n",
       " 0.8\n",
       " 0.2"
      ]
     },
     "execution_count": 17,
     "metadata": {},
     "output_type": "execute_result"
    }
   ],
   "source": [
    "basis(2, 0.2, 3, knotVec)"
   ]
  },
  {
   "cell_type": "code",
   "execution_count": 18,
   "metadata": {},
   "outputs": [
    {
     "name": "stdout",
     "output_type": "stream",
     "text": [
      "search: \u001b[1mp\u001b[22m\u001b[1ml\u001b[22m\u001b[1mo\u001b[22m\u001b[1mt\u001b[22m \u001b[1mp\u001b[22m\u001b[1ml\u001b[22m\u001b[1mo\u001b[22m\u001b[1mt\u001b[22m! \u001b[1mp\u001b[22m\u001b[1ml\u001b[22m\u001b[1mo\u001b[22m\u001b[1mt\u001b[22mly \u001b[1mp\u001b[22m\u001b[1ml\u001b[22m\u001b[1mo\u001b[22m\u001b[1mt\u001b[22m3d \u001b[1mP\u001b[22m\u001b[1ml\u001b[22m\u001b[1mo\u001b[22m\u001b[1mt\u001b[22ms \u001b[1mp\u001b[22m\u001b[1ml\u001b[22m\u001b[1mo\u001b[22m\u001b[1mt\u001b[22m3d! \u001b[1mp\u001b[22m\u001b[1ml\u001b[22m\u001b[1mo\u001b[22m\u001b[1mt\u001b[22mlyjs \u001b[1mp\u001b[22m\u001b[1ml\u001b[22m\u001b[1mo\u001b[22m\u001b[1mt\u001b[22mattr \u001b[1mp\u001b[22m\u001b[1ml\u001b[22m\u001b[1mo\u001b[22m\u001b[1mt\u001b[22marea\n",
      "\n"
     ]
    },
    {
     "data": {
      "text/markdown": [
       "The main plot command. Use `plot` to create a new plot object, and `plot!` to add to an existing one:\n",
       "\n",
       "```\n",
       "    plot(args...; kw...)                  # creates a new plot window, and sets it to be the current\n",
       "    plot!(args...; kw...)                 # adds to the `current`\n",
       "    plot!(plotobj, args...; kw...)        # adds to the plot `plotobj`\n",
       "```\n",
       "\n",
       "There are lots of ways to pass in data, and lots of keyword arguments... just try it and it will likely work as expected. When you pass in matrices, it splits by columns. To see the list of available attributes, use the `plotattr([attr])` function, where `attr` is the symbol `:Series:`, `:Subplot:`, `:Plot` or `:Axis`. Pass any attribute to `plotattr` as a String to look up its docstring; e.g. `plotattr(\"seriestype\")`.\n"
      ],
      "text/plain": [
       "The main plot command. Use `plot` to create a new plot object, and `plot!` to add to an existing one:\n",
       "\n",
       "```\n",
       "    plot(args...; kw...)                  # creates a new plot window, and sets it to be the current\n",
       "    plot!(args...; kw...)                 # adds to the `current`\n",
       "    plot!(plotobj, args...; kw...)        # adds to the plot `plotobj`\n",
       "```\n",
       "\n",
       "There are lots of ways to pass in data, and lots of keyword arguments... just try it and it will likely work as expected. When you pass in matrices, it splits by columns. To see the list of available attributes, use the `plotattr([attr])` function, where `attr` is the symbol `:Series:`, `:Subplot:`, `:Plot` or `:Axis`. Pass any attribute to `plotattr` as a String to look up its docstring; e.g. `plotattr(\"seriestype\")`.\n"
      ]
     },
     "execution_count": 18,
     "metadata": {},
     "output_type": "execute_result"
    }
   ],
   "source": [
    "?plot"
   ]
  },
  {
   "cell_type": "code",
   "execution_count": 28,
   "metadata": {},
   "outputs": [
    {
     "name": "stdout",
     "output_type": "stream",
     "text": [
      "[0.0, 1.0, 0.0][0.0, 0.9, 0.1][0.0, 0.8, 0.2][0.0, 0.7, 0.3][0.0, 0.6, 0.4][0.0, 0.5, 0.5][0.0, 0.4, 0.6][0.0, 0.3, 0.7][0.0, 0.2, 0.8][0.0, 0.1, 0.9][0.0, 1.11022e-16, 1.0]"
     ]
    }
   ],
   "source": [
    "i = 0.0;\n",
    "while i < 1 \n",
    "   print(basis(2, i, 3, knotVec))\n",
    "    i += 0.1\n",
    "end"
   ]
  },
  {
   "cell_type": "code",
   "execution_count": null,
   "metadata": {},
   "outputs": [],
   "source": []
  }
 ],
 "metadata": {
  "kernelspec": {
   "display_name": "Julia 0.6.4",
   "language": "julia",
   "name": "julia-0.6"
  },
  "language_info": {
   "file_extension": ".jl",
   "mimetype": "application/julia",
   "name": "julia",
   "version": "0.6.4"
  }
 },
 "nbformat": 4,
 "nbformat_minor": 2
}
