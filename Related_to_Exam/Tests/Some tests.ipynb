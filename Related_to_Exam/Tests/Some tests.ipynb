{
 "cells": [
  {
   "cell_type": "code",
   "execution_count": 1,
   "metadata": {},
   "outputs": [
    {
     "data": {
      "text/plain": [
       "knot"
      ]
     },
     "execution_count": 1,
     "metadata": {},
     "output_type": "execute_result"
    }
   ],
   "source": [
    "\"\"\"\n",
    "    knot(npts, ord, centre=false, step=1.0)\n",
    "Generate a `ord` order B-spline open uniform knot vector over `npts = n+1` control vertices.\n",
    "An open uniform knot vector has multiplicity of knot values\n",
    " at the ends equals to the order `ord` of the B-Spline basis function.\n",
    "Internal knot values are evenly spaced (uniform).\n",
    "The resulting open uniform basis functions yield curves\n",
    " that behave most nearly like Bézier curves.\n",
    "`centre` Boolean value indicates if the knots are centered in the\n",
    " zero value or if them goes from zero to `m-1` where `m=npts+ord`.\n",
    " If `true` is choosen, then `m` must be odd.\n",
    "Necessary condition is that `npts>=ord` in order to correct build the knot vector.\n",
    "---\n",
    "# Arguments\n",
    "- `npts::Int64`: the number of the `n+1` points of the controll polygon.\n",
    "- `ord::Int64`: the order of the B-Spline (`degree k-1`).\n",
    "- `centre::Bool=false`: if the knot is centered in zero.\n",
    "- `step::Float64=1.0`: the step between the knots.\n",
    "---\n",
    "# Examples\n",
    "```jldoctest\n",
    "julia> knot(5, 2)\n",
    "7-element Array{Float64,1}:\n",
    " 0.0\n",
    " 0.0\n",
    " 1.0\n",
    " 2.0\n",
    " 3.0\n",
    " 4.0\n",
    " 4.0\n",
    "```\n",
    "```jldoctest\n",
    "julia> knot(6, 3, false, 0.25)\n",
    "9-element Array{Float64,1}:\n",
    " 0.0\n",
    " 0.0\n",
    " 0.0\n",
    " 0.25\n",
    " 0.5\n",
    " 0.75\n",
    " 1.0\n",
    " 1.0\n",
    " 1.0\n",
    "```\n",
    "```jldoctest\n",
    "julia> knot(5, 2, true)\n",
    "7-element Array{Float64,1}:\n",
    " -2.0\n",
    " -2.0\n",
    " -1.0\n",
    " 0.0\n",
    " 1.0\n",
    " 2.0\n",
    " 2.0\n",
    "```\n",
    "---\n",
    "_By Elia Onofri, Giuseppe Santorelli_\n",
    "\"\"\"\n",
    "\n",
    "function knot(npts::Int64, ord::Int64, centre::Bool=false, step::Float64=1.0)::Array{Float64}\n",
    "    # Input Data Check\n",
    "    @assert npts >= ord (\"ERROR: ord > npts\")\n",
    "\t\n",
    "    local m::Int64 = npts+ord      \t\t   # knot vector dimension\n",
    "    local backstep::Float64 = 0.0   \t\t   # backstep is the affine transition parameter for 0-central knots\n",
    "    local x::Array{Float64} = Array{Float64}(m)    # knot vector output\n",
    "\t\n",
    "    # Different preparation for centre knot vector\n",
    "    if centre\n",
    "        @assert m % 2 == 1 (\"ERROR: no centring points available\")\n",
    "        backstep = step * (npts - ord + 1) / 2\n",
    "    end\n",
    "    \n",
    "    x[1] = 0 - backstep\n",
    "    for i = 2 : m\n",
    "        if i > ord && i <= npts + 1\n",
    "            x[i] = x[i-1] + step\n",
    "        else\n",
    "            x[i] = x[i-1]\n",
    "        end\n",
    "    end\n",
    "    return x\n",
    "end"
   ]
  },
  {
   "cell_type": "code",
   "execution_count": 14,
   "metadata": {},
   "outputs": [
    {
     "data": {
      "text/plain": [
       "knotc"
      ]
     },
     "execution_count": 14,
     "metadata": {},
     "output_type": "execute_result"
    }
   ],
   "source": [
    "\"\"\"\n",
    "UNTESTED::knotc(npts, ord, b)\n",
    "Generate a nonuniform open knot vector proportional to the chord lengths between defining polygon vertices.\n",
    "# Arguments\n",
    "- `npts::Int64`: the number of the contol polygon vertices.\n",
    "- `ord::Int64`: order of the basis function.\n",
    "- `b::Array{Float64}`: array containing the contol polygon vertices.\n",
    "---\n",
    "# Examples\n",
    "```jldoctest\n",
    "julia> \n",
    "```\n",
    "```jldoctest\n",
    "julia> \n",
    "```\n",
    "```jldoctest\n",
    "julia> \n",
    "```\n",
    "---\n",
    "_Giuseppe Santorelli_\n",
    "\"\"\"\n",
    "\n",
    "function knotc(npts::Int64, ord::Int64, b::Array{Float64})::Array{Float64}\n",
    "    \n",
    "    @assert length(b) == 3 * npts (\"ERROR: array b not matching with parameters\")\n",
    "    @assert npts >= ord (\"ERROR: ord > npts\")\n",
    "\n",
    "    chord::Array{Float64} = Array{Float64}(31)\n",
    "    m::Int64 = npts + ord\n",
    "    n::Int64 = npts - 1\n",
    "    x::Array{Float64} = Array{Float64}(m)\n",
    "        \n",
    "    maxchord = 0\n",
    "    icount = 0\n",
    "    \n",
    "    # determine chord distance between defining polygon vertices and their sum\n",
    "    for i = 4 : 3 : 3*npts\n",
    "        icount = icount + 1\n",
    "        xchord = b[i] - b[i - 3]\n",
    "        ychord = b[i + 1] - b[i - 2]\n",
    "        zchord = b[i + 2] - b[i - 1]\n",
    "        chord[icount] = sqrt(xchord * xchord + ychord * ychord + zchord * zchord)\n",
    "        maxchord = maxchord + chord[icount]\n",
    "    end\n",
    "    \n",
    "    # multiplicity of c=order zeros at the beginning of the open knot vector\n",
    "    for i = 1 : ord\n",
    "        x[i] = 0\n",
    "    end\n",
    "    \n",
    "    # generate the internal knot values\n",
    "    for i = 1 : npts - ord\n",
    "        csum = 0\n",
    "        \n",
    "        for j = 1 : i\n",
    "            csum = csum + chord[j]\n",
    "        end\n",
    "        \n",
    "        numerator = i / (npts - ord + 1) * chord[i + 1] + csum\n",
    "        x[ord + i] = (numerator / maxchord) * (npts - ord + 1)\n",
    "    end\n",
    "    \n",
    "    # multiplicity of c=order zeros at the end of the open knot vector\n",
    "    for i = npts + 1 : m\n",
    "        x[i] = npts - ord + 1\n",
    "    end\n",
    "    \n",
    "    return x\n",
    "    \n",
    "end"
   ]
  },
  {
   "cell_type": "code",
   "execution_count": 7,
   "metadata": {},
   "outputs": [
    {
     "data": {
      "text/plain": [
       "knotu"
      ]
     },
     "execution_count": 7,
     "metadata": {},
     "output_type": "execute_result"
    }
   ],
   "source": [
    "\"\"\"\n",
    "    knotu(npts, ord, step=1.0)\n",
    "Generate a B-spline periodic uniform knot vector over `npts = n+1` control vertices.\n",
    "In a periodic uniform knot vector the knot values are evenly spaced by `step`.\n",
    "Moreover each base is a translate of the others as it could be defined like:\n",
    "```math\n",
    "    N_{i, k}(t) = N_{i-1, k}(t-1) = N_{i+1, k}(t+1)\n",
    "```\n",
    "---\n",
    "# Arguments\n",
    "- `npts::Int64`: the number of the `n+1` points of the controll polygon.\n",
    "- `ord::Int64`: the order of the B-Spline (`deg = ord-1`).\n",
    "- `step::Float64=1.0`: the step between the knots.\n",
    "---\n",
    "# Example\n",
    "```jldoctest\n",
    "julia> knotu(5, 2)\n",
    "7-element Array{Float64,1}:\n",
    " 0.0\n",
    " 1.0\n",
    " 2.0\n",
    " 3.0\n",
    " 4.0\n",
    " 5.0\n",
    " 6.0\n",
    "```\n",
    "```\n",
    "julia> knotu(5, 4, 0.25)\n",
    "9-element Array{Float64,1}:\n",
    " 0.0 \n",
    " 0.25\n",
    " 0.5 \n",
    " 0.75\n",
    " 1.0 \n",
    " 1.25\n",
    " 1.5 \n",
    " 1.75\n",
    " 2.0\n",
    "```\n",
    "---\n",
    "_By Elia Onofri, Giuseppe Santorelli_\n",
    "\"\"\"\n",
    "\n",
    "function knotu(npts::Int64, ord::Int64, step::Float64=1.0)::Array{Float64}\n",
    "    # Input Data Check\n",
    "    @assert npts >= ord (\"ERROR: ord > npts\")\n",
    "\t\n",
    "    local m::Int64 = npts + ord      \t\t   # knot vector dimension\n",
    "    local x::Array{Float64} = Array{Float64}(m)    # knot vector output\n",
    "\n",
    "    for i = 1 : m\n",
    "        x[i] = (i-1) * step\n",
    "    end\n",
    "\n",
    "    return x\n",
    "end"
   ]
  },
  {
   "cell_type": "code",
   "execution_count": 15,
   "metadata": {},
   "outputs": [
    {
     "name": "stdout",
     "output_type": "stream",
     "text": [
      "search:\n",
      "\n"
     ]
    },
    {
     "data": {
      "text/markdown": [
       "UNTESTED::knotc(npts, ord, b) Generate a nonuniform open knot vector proportional to the chord lengths between defining polygon vertices.\n",
       "\n",
       "# Arguments\n",
       "\n",
       "  * `npts::Int64`: the number of the contol polygon vertices.\n",
       "  * `ord::Int64`: order of the basis function.\n",
       "  * `b::Array{Float64}`: array containing the contol polygon vertices.\n",
       "\n",
       "---\n",
       "\n",
       "# Examples\n",
       "\n",
       "```jldoctest\n",
       "julia> \n",
       "```\n",
       "\n",
       "```jldoctest\n",
       "julia> \n",
       "```\n",
       "\n",
       "```jldoctest\n",
       "julia> \n",
       "```\n",
       "\n",
       "---\n",
       "\n",
       "_Giuseppe Santorelli_\n"
      ],
      "text/plain": [
       "UNTESTED::knotc(npts, ord, b) Generate a nonuniform open knot vector proportional to the chord lengths between defining polygon vertices.\n",
       "\n",
       "# Arguments\n",
       "\n",
       "  * `npts::Int64`: the number of the contol polygon vertices.\n",
       "  * `ord::Int64`: order of the basis function.\n",
       "  * `b::Array{Float64}`: array containing the contol polygon vertices.\n",
       "\n",
       "---\n",
       "\n",
       "# Examples\n",
       "\n",
       "```jldoctest\n",
       "julia> \n",
       "```\n",
       "\n",
       "```jldoctest\n",
       "julia> \n",
       "```\n",
       "\n",
       "```jldoctest\n",
       "julia> \n",
       "```\n",
       "\n",
       "---\n",
       "\n",
       "_Giuseppe Santorelli_\n"
      ]
     },
     "execution_count": 15,
     "metadata": {},
     "output_type": "execute_result"
    }
   ],
   "source": [
    "?knotc"
   ]
  },
  {
   "cell_type": "code",
   "execution_count": 22,
   "metadata": {},
   "outputs": [
    {
     "data": {
      "text/plain": [
       "4×2 Array{Float64,2}:\n",
       " 0.0  2.0\n",
       " 0.0  2.0\n",
       " 2.0  0.0\n",
       " 2.0  0.0"
      ]
     },
     "execution_count": 22,
     "metadata": {},
     "output_type": "execute_result"
    }
   ],
   "source": [
    "[0.0 2; 0 2; 2 0; 2 0]"
   ]
  },
  {
   "cell_type": "code",
   "execution_count": null,
   "metadata": {},
   "outputs": [],
   "source": []
  },
  {
   "cell_type": "code",
   "execution_count": null,
   "metadata": {},
   "outputs": [],
   "source": []
  },
  {
   "cell_type": "code",
   "execution_count": 23,
   "metadata": {},
   "outputs": [
    {
     "data": {
      "text/plain": [
       "basis"
      ]
     },
     "execution_count": 23,
     "metadata": {},
     "output_type": "execute_result"
    }
   ],
   "source": [
    "\"\"\"\n",
    "    basis(ord, t, npts, x[])\n",
    "Generate a B-spline basis functions `N[]` for a given open knot vector `x[]`.\n",
    "A B-Spline basis is a collection of functions of a parameter `t` wich form\n",
    " a basis for the vectorial space of functions. The conformation of this set\n",
    " higly depends on the choosing of the knots `x[]` the curve is bound to.\n",
    "The basis is computed with _Cox-de Boor_ recursive function applied to the\n",
    " basis dependency tree in order to optimise the computation.\n",
    "---\n",
    "# Arguments\n",
    "- `ord::Int64`: the order of the B-Spline (`deg = ord-1`).\n",
    "- `t::Float64`: the parameter value of the parametric curve.\n",
    "- `npts::Int64`: the number of the points of the controll polygon.\n",
    "- `x::Array{Float64}`: the knot vector.\n",
    "---\n",
    "_By Elia Onofri, Giuseppe Santorelli_\n",
    "\"\"\"\n",
    "\n",
    "function basis(ord::Int64, t::Float64, npts::Int64, x::Array{Float64})::Array{Float64}\n",
    "    local max_N = npts-1+ord        # Needs i+(ord-1)|i=npts = npts-1+ord trivial basis\n",
    "    local m::Int64 = npts+ord\t    # Dimension of the knot vector\n",
    "    local ddep::Float64 = 0.0       # Direct Dependency partial sum\n",
    "    local fdep::Float64 = 0.0       # Forward Dependency partial sum\n",
    "    \n",
    "    local N::Array{Float64} = Array{Float64}(max_N)   # Basis progressive vector\n",
    "    \n",
    "    # Local check of the knot vector correctness\n",
    "    @assert length(x) == m (\"ERROR: incompatibile knot vector with given parameters n+1 = $(npts), k = $(ord)\")\n",
    "    \n",
    "    # Eval N_{i,1} for i = 1:max_B\n",
    "    for i = 1 : max_N\n",
    "        if (t >= x[i]) && (t < x[i+1])\n",
    "            N[i] = 1\n",
    "        else\n",
    "            N[i] = 0\n",
    "        end\n",
    "    end\n",
    "    \n",
    "    # Eval higher basis N_{i,deg} for deg = 2:ord and i = 1:max_B-deg\n",
    "    for deg = 2 : ord\n",
    "        for i = 1 : m-deg\n",
    "            # Eval of the direct dependency\n",
    "            if N[i] == 0\n",
    "                ddep = 0.0\n",
    "            else\n",
    "                ddep = ((t - x[i]) * N[i]) / (x[i+deg-1] - x[i])\n",
    "            end\n",
    "            # Eval of the forward dependency\n",
    "            if N[i+1] == 0\n",
    "                fdep = 0.0\n",
    "            else\n",
    "                fdep = ((x[i+deg] - t) * N[i+1]) / (x[i+deg] - x[i+1])\n",
    "            end\n",
    "            # Collection of the dependencies\n",
    "            N[i] = ddep + fdep\n",
    "        end\n",
    "    end\n",
    "    \n",
    "    # Otherwise last point is zero\n",
    "    if t == x[m]\n",
    "        N[npts] = 1\n",
    "    end\n",
    "    \n",
    "    return N[1:npts]\n",
    "end"
   ]
  },
  {
   "cell_type": "code",
   "execution_count": 43,
   "metadata": {},
   "outputs": [
    {
     "data": {
      "text/plain": [
       "db (generic function with 1 method)"
      ]
     },
     "execution_count": 43,
     "metadata": {},
     "output_type": "execute_result"
    }
   ],
   "source": [
    "db(t) = dbasis(3, t, 5, knot(5,3))"
   ]
  },
  {
   "cell_type": "code",
   "execution_count": 48,
   "metadata": {},
   "outputs": [
    {
     "data": {
      "text/plain": [
       "([0.0, 0.5, 0.5, 0.0, 0.0], [NaN, Inf, 2.75025e247, Inf, NaN], [NaN, Inf, 1.1001e248, NaN, NaN])"
      ]
     },
     "execution_count": 48,
     "metadata": {},
     "output_type": "execute_result"
    }
   ],
   "source": [
    "db(1.0)"
   ]
  },
  {
   "cell_type": "code",
   "execution_count": 35,
   "metadata": {},
   "outputs": [],
   "source": [
    "B = [2.0 0.0; 2.0 2.0; 0.0 2.0]::Array{Float64, 2};\n",
    "n = length(B[:,1])::Int64 -1;\n",
    "k = 3::Int64;\n",
    "kvec = knot(n+1, k)::Array{Float64};"
   ]
  },
  {
   "cell_type": "code",
   "execution_count": 42,
   "metadata": {},
   "outputs": [
    {
     "data": {
      "text/plain": [
       "dbasis"
      ]
     },
     "execution_count": 42,
     "metadata": {},
     "output_type": "execute_result"
    }
   ],
   "source": [
    "\"\"\"\n",
    "    dbasis(ord, t, npts, x[])\n",
    "Generate a B-spline basis functions `N[]` and its derivatives `d1[], d2[]` for a given open knot vector `x[]`.\n",
    "A B-Spline basis is a collection of functions of a parameter `t` wich form\n",
    " a basis for the vectorial space of functions. The conformation of this set\n",
    " higly depends on the choosing of the knots `x[]` the curve is bound to.\n",
    "The basis is computed with _Cox-de Boor_ recursive function applied to the\n",
    " basis dependency tree in order to optimise the computation.\n",
    "---\n",
    "# Arguments\n",
    "- `ord::Int64`: the order of the B-Spline (`deg = ord-1`).\n",
    "- `t::Float64`: the parameter value of the parametric curve.\n",
    "- `npts::Int64`: the number of the points of the controll polygon.\n",
    "- `x::Array{Float64}`: the knot vector.\n",
    "---\n",
    "_By Elia Onofri, Giuseppe Santorelli_\n",
    "\"\"\"\n",
    "\n",
    "function dbasis(ord::Int64, t::Float64, npts::Int64, x::Array{Float64})::Tuple{Array{Float64}, Array{Float64}, Array{Float64}}\n",
    "    local max_N::Int64 = npts-1+ord\t\t# Needs i+(ord-1)|i=npts = npts-1+ord trivial basis\n",
    "    local m::Int64 = npts+ord\t\t\t# Dimension of the knot vector\n",
    "    local ddep::Float64 = 0.0   \t\t# Direct Dependency partial sum\n",
    "    local fdep::Float64 = 0.0   \t\t# Forward Dependency partial sum\n",
    "    \n",
    "    local N::Array{Float64} = Array{Float64}(max_N)   # Basis progressive vector\n",
    "    local d1::Array{Float64} = Array{Float64}(max_N)  # First Derivative progressive vector\n",
    "    local d2::Array{Float64} = Array{Float64}(max_N)  # Second Derivative progressive vector\n",
    "    \n",
    "    # Local check of the knot vector correctness\n",
    "    @assert length(x) == m (\"ERROR: incompatibile knot vector with given parameters n+1 = $(npts), k = $(ord)\")\n",
    "    \n",
    "    # Eval N_{i,1} for i = 1:max_B\n",
    "    for i = 1 : max_N\n",
    "        if (t >= x[i]) && (t < x[i+1])\n",
    "            N[i] = 1\n",
    "        else\n",
    "            N[i] = 0\n",
    "        end\n",
    "    end\n",
    "    \n",
    "    if t == x[m]    # last(x)\n",
    "        N[npts] = 1\n",
    "    end\n",
    "    \n",
    "    # Eval higher basis N_{i,deg} for deg = 2:ord and i = 1:max_B-deg\n",
    "    for deg = 2 : ord\n",
    "        for i = 1 : m-deg\n",
    "            \n",
    "            # ----Eval of the direct dependency----\n",
    "            if N[i] == 0\n",
    "                ddep = 0.0\n",
    "                f1 = 0.0\n",
    "            else\n",
    "                ddep = ((t - x[i]) * N[i]) / (x[i+deg-1] - x[i])\n",
    "                f1 = N[i] / (x[i+deg-1] - x[i])\n",
    "            end\n",
    "            \n",
    "            # ----Eval of the forward dependency----\n",
    "            if N[i+1] == 0\n",
    "                fdep = 0.0\n",
    "                f2 = 0.0\n",
    "            else\n",
    "                fdep = ((x[i+deg] - t) * N[i+1]) / (x[i+deg] - x[i+1])\n",
    "                f2 = -N[i+1] / (x[i+deg] - x[i+1])\n",
    "            end\n",
    "\n",
    "            #----Eval of the direct first derivative dependency----\n",
    "            if d1[i] != 0    # if the lower order basis function is zero skip the calculation\n",
    "                f3 = ((t - x[i]) * d1[i]) / (x[i+deg-1] - x[i])\n",
    "                s1 = (2 * d1[i]) / (x[i+deg-1] - x[i])\n",
    "            else\n",
    "                f3 = 0.0\n",
    "                s1 = 0.0\n",
    "            end\n",
    "            \n",
    "            #----Eval of the forward first derivative dependency----\n",
    "            if d1[i+1] != 0    # if the lower order basis function is zero skip the calculation\n",
    "                f4 = ((x[i+deg] - t) * d1[i+1]) / (x[i+deg] - x[i+1])\n",
    "                s2 = ((-2) * d1[i+1]) / (x[i+deg] - x[i+1])\n",
    "            else\n",
    "                f4 = 0.0\n",
    "                s2 = 0.0\n",
    "            end\n",
    "\t\t\n",
    "            #----Eval of the direct second derivative dependency----\n",
    "            if d2[i] != 0    # if the lower order basis function is zero skip the calculation\n",
    "                s3 = ((t - x[i]) * d2[i] ) / (x[i+deg-1]-x[i])\n",
    "            else\n",
    "                s3 = 0.0\n",
    "            end\n",
    "            \n",
    "            #----Eval of the forward second derivative dependency----\n",
    "            if d2[i+1] != 0    # if the lower order basis function is zero skip the calculation\n",
    "                s4 = ((x[i+deg] - t) * d2[i+1]) / (x[i+deg] - x[i+1])\n",
    "            else\n",
    "                s4 = 0.0\n",
    "            end\n",
    "\t\t\t\n",
    "            # Collection of the dependencies\n",
    "            N[i] = ddep + fdep\n",
    "            d1[i] = f1 + f2 + f3 + f4\n",
    "            d2[i] = s1 + s2 + s3 + s4\n",
    "        end\n",
    "    end\n",
    "    \n",
    "    return (N[1:npts], d1[1:npts], d2[1:npts])\n",
    "end"
   ]
  },
  {
   "cell_type": "code",
   "execution_count": null,
   "metadata": {},
   "outputs": [],
   "source": []
  }
 ],
 "metadata": {
  "kernelspec": {
   "display_name": "Julia 0.6.4",
   "language": "julia",
   "name": "julia-0.6"
  },
  "language_info": {
   "file_extension": ".jl",
   "mimetype": "application/julia",
   "name": "julia",
   "version": "0.6.4"
  }
 },
 "nbformat": 4,
 "nbformat_minor": 2
}
