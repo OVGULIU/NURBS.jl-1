{
 "cells": [
  {
   "cell_type": "markdown",
   "metadata": {},
   "source": [
    "# Circonferenza Julia\n",
    "\n",
    "Basis Function:\n",
    "$$\n",
    "    P(t) = \\sum_{i=1}^{n+1}B_iN_{i,k}(t), \\qquad 2 \\leq k \\leq n+1\n",
    "$$"
   ]
  },
  {
   "cell_type": "code",
   "execution_count": 4,
   "metadata": {},
   "outputs": [],
   "source": [
    "B = [0 0;0 2;2 2];\n",
    "knotVec = [0 0 0 1 1 1];"
   ]
  },
  {
   "cell_type": "code",
   "execution_count": null,
   "metadata": {},
   "outputs": [],
   "source": []
  }
 ],
 "metadata": {
  "kernelspec": {
   "display_name": "Julia 0.6.4",
   "language": "julia",
   "name": "julia-0.6"
  },
  "language_info": {
   "file_extension": ".jl",
   "mimetype": "application/julia",
   "name": "julia",
   "version": "0.6.4"
  }
 },
 "nbformat": 4,
 "nbformat_minor": 2
}
