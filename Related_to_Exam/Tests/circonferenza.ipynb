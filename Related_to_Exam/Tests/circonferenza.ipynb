{
 "cells": [
  {
   "cell_type": "code",
   "execution_count": 1,
   "metadata": {},
   "outputs": [],
   "source": [
    "using Plots"
   ]
  },
  {
   "cell_type": "markdown",
   "metadata": {},
   "source": [
    "# Le B-Spline\n",
    "\n",
    "Una B-Spline è la rappresentazione di una curva (o meglio di una funzione) a partire dall'interpolazione degli elementi di una base normalizzata dello spazio delle funzioni analitiche.\n",
    "\n",
    "L'interpolazione ha luogo a partire da una serie di punti del piano detti nodi (o _knots_) i quali giacciono all'interno di un poligono di controllo delimitato da una famiglia di punti $B$.\n",
    "\n",
    "Il vettore di posizione (_i.e._ la funzione parametrica) di una B-Spline è dunque definito come:\n",
    "$$\n",
    "    P(t) = \\sum_{i=1}^{n+1}B_iN_{i,k}(t), \\qquad 2 \\leq k \\leq n+1\n",
    "$$\n",
    "dove:\n",
    " - `B_i` indica l'iesimo punto del poligono di controllo ($n+1$ punti)\n",
    " - `N_{i,k}` indica la funzione della base dell'$i$-esima B-Spline normalizzata di ordine $k$ (ovvero grado $k-1$).\n",
    "\n",
    "In particolare un metodo per calcolare tale base `N_{i, k}` è data dalla formula ricorsiva di _Cox-de Boor_.\n",
    "$$\n",
    "    N_{i,k}(t) = \\frac{(t-x_i)N_{i,k-1}(t)}{x_{i+k-1}-x_i} + \\frac{(x_{i+k}-t)N_{i+1,k-1}(t)}{x_{i+k}-x_{i+1}},\n",
    "    \\qquad \\mbox{con} \\quad\n",
    "    N_{i,1}(t) = \n",
    "    \\begin{cases}\n",
    "        1  &  \\mbox{ se } x_i < t < x_{i+1}\\\\\n",
    "        0  &  \\mbox{ altrimenti}\n",
    "    \\end{cases}\n",
    "$$\n",
    "Ricordiamo che l'interpolazione effettuata dipende dai seguenti parametri:\n",
    " - Ogni B-Spline deve passare per $k$ nodi (o _knots_) $x$ (fatta eccezione per quelle di bordo)\n",
    " - $P(t)$ e tutte le sue derivate fino alla $k-2$-esima devono essere continue sull'intera curva (in particolare ogni B-Spline deve godere di buon incollamento con le altre) \n",
    " - I nodi $x_i$ devono essere monotoni non decrescenti (_i.e._ $x_i \\leq x_{i+1}$)\n",
    " - $P(t)$ deve essere un polinomio di grado $k-1$ su ogni intervallo $x_i \\leq t < x_{i+1}$\n",
    " \n",
    "In base a queste quattro caratteristiche è possibile determinare (a patto di avere sufficienti knots) delle B-spline di grado arbitrariamente alto."
   ]
  },
  {
   "cell_type": "markdown",
   "metadata": {},
   "source": [
    "## Proprietà delle B-Spline\n",
    "\n",
    "Fra le proprietà delle curve troviamo:\n",
    " - La somma delle funzioni di base è costante per ogni valore di $t$\n",
    " $$\n",
    "     \\sum_{i=1}^{n+1} N_{i,k} = 1\n",
    " $$\n",
    " - Le funzioni di base sono non negative\n",
    " - L'ordine massimo della curva è al più pari al numero $n+1$ di punti del poligono di controllo (da cui il grado massimo è al più $n$)\n",
    " - Una curva può essere modificata da una funzione $f$ affine mediante l'applicazione di $f$ ai punti del poligono di controllo\n",
    " - La curva giace nello scafo connesso del suo poligono di controllo.\n",
    "\n",
    "L'ultima affermazione ci permette di scegliere i punti del poligono di controllo dei quarti di circonferenza come:\n",
    "$$\n",
    "    \\begin{split}\n",
    "        B_I     =& [(+2, 0), (+2,+2), ( 0,+2)]\\\\\n",
    "        B_{II}  =& [( 0,+2), (-2,+2), (-2, 0)]\\\\\n",
    "        B_{III} =& [(-2, 0), (-2,-2), ( 0,-2)]\\\\\n",
    "        B_{IV}  =& [( 0,-2), (+2,-2), (+2, 0)]\\\\\n",
    "        \\hline\\hline\n",
    "        B       =& [(+2, 0), (+2,+2), ( 0,+2),\\\\\n",
    "                 &\\ (-2,+2), (-2, 0), (-2,-2),\\\\\n",
    "                 &\\ ( 0,-2), (+2,-2), (+2, 0)]\n",
    "    \\end{split}\n",
    "$$\n",
    "ed afferma inoltre che una buona scelta per $k$ è $3$ dal momento che in tale maniera la B-Spline risultante è vincolata a passare per i punti $[(+2,0), (0,+2), (-2,0), (0,-2)]$.\n",
    "\n",
    "Qualora si volesse calcolare una B-Spline di ordine 4 sarà invece necessario duplicare i punti indicati almeno una volta."
   ]
  },
  {
   "cell_type": "markdown",
   "metadata": {},
   "source": [
    "## I Nodi (_Knot_)\n",
    "\n",
    "La scelta dei nodi è di cardinale importanza.\n",
    "\n",
    "In generale se la funzione è di ordine $k$ e la costruzione avviene su un poligono di $n+1$ vertici, il numero di nodi $m$ segue la relazione:\n",
    "$$\n",
    "    m = k + n +1\n",
    "$$\n",
    "\n",
    "In particolare si usano due tipologie di nodi:\n",
    " - **periodici**: Presentano il primo e l'ultimo valore in molteplicità $k$\n",
    " - **aperti**: Presentano tutti i valori con molteplicità non fissata (perlopiù 1)\n",
    "\n",
    "che si presentano in due costruzioni diverse:\n",
    " - **uniformi**: ovvero l'intervallo è suddiviso in parti uguali dai nodi\n",
    " - **non uniformi**: ovvero l'intervallo fra un nodo ed il successivo può variare (o anche essere zero)\n",
    "\n",
    "In particolare si hanno quindi 4 classi di nodi:\n",
    " - **Periodici Uniformi**: Conducono ad una forma della funzione della base\n",
    "   $$\n",
    "       N_{i,k}(t) = N_{i-1,k}(t-1) = N_{i+1,k}(t+1)\n",
    "   $$\n",
    " - **Aperti Uniformi**: presentano uno spaziamento uniforme interno e una molteplicità $k$ sui nodi esterni, ad esempio:\n",
    "   $$\n",
    "       k = 3 \\qquad [0\\ 0\\ 0\\ 1\\ 2\\ 3\\ 3\\ 3]\n",
    "   $$\n",
    "   Un caso particolare di questa struttura si ha quando il numero di punti del poligono di controllo è pari al grado della B-Spline: in questo caso non si ottiene altro che una base di Berntein e, conseguentemente, una curva di Bézier.\n",
    " - **Aperti Non Uniformi**\n",
    " - **Periodici Non Uniformi**"
   ]
  },
  {
   "cell_type": "markdown",
   "metadata": {},
   "source": [
    "## Funzioni delle Basi per le B-Spline\n",
    "\n",
    "Dal momento che le funzioni `N_{i,k}` definite a partire dalla formula di _Cox-de Boor_ sono in forma ricorsiva su $k$, il calcolo di un set di basi può essere ottimizzato salvando le computazioni necessarie al calcolo di più d'una fra le $n+1$ basi. A questo proposito è bene avere in mente un albero delle dipendenze:\n",
    "$$\n",
    "    \\begin{matrix}\n",
    "        N_{i, k}\\\\\n",
    "        N_{i, k-1} & N_{i+1, k-1}\\\\\n",
    "        N_{i, k-2} & N_{i+1, k-2} & N{i+2, k-2}\\\\\n",
    "        \\vdots & \\vdots & \\vdots & \\ddots\\\\\n",
    "        N_{i, 1} & N_{i+1, 1} & N{i+2, k-2} & \\dots & N{i+k-1, 1}\n",
    "    \\end{matrix}\n",
    "    \\begin{matrix}\n",
    "        N_{i-k+1, k} & \\dots & N_{i-1, k} & N_{i, k} & N_{i+1, k} & \\dots & N_{i+k-1, k}\\\\\n",
    "                    & \\ddots & \\vdots     & \\vdots   & \\vdots     &       &             \\\\\n",
    "                     &       & N_{i-1, 2} & N_{i, 2} & N_{i+1, 2} \\\\\n",
    "                     &       &            & N_{i, 1} \n",
    "    \\end{matrix}\n",
    "$$\n",
    "\n",
    "Ne segue che per modificare una B-Spline si possono utilizzare i seguenti artifici:\n",
    " - Cambiare il tipo di nodi (e dunque anche la base associata): aperti, periodici, uniformi, non uniformi\n",
    " - Modificare l'ordine $k$ della funzione (e dunque il grado $k-1$)\n",
    " - Variare la posizione dei punti di controllo\n",
    " - Utilizzare un numero maggiore di punti di controllo\n",
    " - Ingrandire il numero di nodi"
   ]
  },
  {
   "cell_type": "code",
   "execution_count": 2,
   "metadata": {},
   "outputs": [
    {
     "data": {
      "text/plain": [
       "knot"
      ]
     },
     "execution_count": 2,
     "metadata": {},
     "output_type": "execute_result"
    }
   ],
   "source": [
    "\"\"\"\n",
    "    knot(n, c)\n",
    "Generate a `k` degreee B-spline open uniform knot vector over `n` control vertices.\n",
    "\n",
    "An open uniform knot vector has multiplicity of knot values\n",
    " at the ends equals to the order `k` of the B-Spline basis function.\n",
    "Internal knot values are evenly spaced.\n",
    "The resulting open uniform basis functions yield curves\n",
    "that behave most nearly like Bézier curves.\n",
    "\n",
    "# Examples\n",
    "```jldoctest\n",
    "julia> knot(5, 2)\n",
    "7-element Array{Int64,1}:\n",
    " 0\n",
    " 0\n",
    " 1\n",
    " 2\n",
    " 3\n",
    " 4\n",
    " 4\n",
    "```\n",
    "\"\"\"\n",
    "\n",
    "function knot(n::Int64,c::Int64)::Array{Int64}\n",
    "    x=Int64[];\n",
    "    nplusc::Int64 = n+c;\n",
    "    nplus2::Int64 = n+2;\n",
    "    push!(x, 0);\n",
    "    for i = 2:nplusc\n",
    "        if i>c && i<nplus2\n",
    "            push!(x, last(x)+1);\n",
    "        else\n",
    "            push!(x, last(x));\n",
    "        end\n",
    "    end\n",
    "    return x\n",
    "end"
   ]
  },
  {
   "cell_type": "code",
   "execution_count": 68,
   "metadata": {},
   "outputs": [
    {
     "data": {
      "text/plain": [
       "oknot"
      ]
     },
     "execution_count": 68,
     "metadata": {},
     "output_type": "execute_result"
    }
   ],
   "source": [
    "\"\"\"\n",
    "    oknot(n1, k, centre=false, step=1.0)\n",
    "Generate a `k` degree B-spline open uniform knot vector over `n1 = n+1` control vertices.\n",
    "\n",
    "An open uniform knot vector has multiplicity of knot values\n",
    " at the ends equals to the order `k` of the B-Spline basis function.\n",
    "Internal knot values are evenly spaced (uniform).\n",
    "The resulting open uniform basis functions yield curves\n",
    " that behave most nearly like Bézier curves.\n",
    "`centre` Boolean value indicates if the knots are centered in the\n",
    " zero value or if them goes from zero to `m-1` where `m=n1+k`.\n",
    " If `true` is choosen, then `m` must be odd.\n",
    "Necessary condition is that `n1>=k` in order to correct build the knot vector.\n",
    "\n",
    "# Examples\n",
    "```jldoctest\n",
    "julia> knot(5, 2)\n",
    "7-element Array{Float64,1}:\n",
    " 0.0\n",
    " 0.0\n",
    " 1.0\n",
    " 2.0\n",
    " 3.0\n",
    " 4.0\n",
    " 4.0\n",
    "```\n",
    "\n",
    "```jldoctest\n",
    "julia> knot(6, 3, false, 0.25)\n",
    "9-element Array{Float64,1}:\n",
    " 0.0\n",
    " 0.0\n",
    " 0.0\n",
    " 0.25\n",
    " 0.5\n",
    " 0.75\n",
    " 1.0\n",
    " 1.0\n",
    " 1.0\n",
    "```\n",
    "\n",
    "```jldoctest\n",
    "julia> knot(5, 2, true)\n",
    "7-element Array{Float64,1}:\n",
    " -2.0\n",
    " -2.0\n",
    " -1.0\n",
    " 0.0\n",
    " 1.0\n",
    " 2.0\n",
    " 2.0\n",
    "```\n",
    "\"\"\"\n",
    "\n",
    "function oknot(n1::Int64, k::Int64, centre=false::Bool, step=1.0::Float64)::Array{Float64}\n",
    "    local x = Float64[];\n",
    "    local m::Int64 = n1+k;\n",
    "    local backstep::Float64 = 0.0;\n",
    "    if centre\n",
    "        if m%2!=1\n",
    "            print(Error)\n",
    "            return x\n",
    "        else\n",
    "            backstep = step*(n1-k+1)/2\n",
    "        end\n",
    "    end\n",
    "    if n1<k\n",
    "        print(\"Attention, k > n1\")\n",
    "    end\n",
    "    push!(x, -backstep)\n",
    "    for i = 2:m\n",
    "        if i>k && i<=n1+1\n",
    "            push!(x, last(x)+step)\n",
    "        else\n",
    "            push!(x, last(x))\n",
    "        end\n",
    "    end\n",
    "    return x\n",
    "end"
   ]
  },
  {
   "cell_type": "code",
   "execution_count": 69,
   "metadata": {},
   "outputs": [
    {
     "data": {
      "text/plain": [
       "9-element Array{Float64,1}:\n",
       " -2.0\n",
       " -2.0\n",
       " -2.0\n",
       " -1.0\n",
       "  0.0\n",
       "  1.0\n",
       "  2.0\n",
       "  2.0\n",
       "  2.0"
      ]
     },
     "execution_count": 69,
     "metadata": {},
     "output_type": "execute_result"
    }
   ],
   "source": [
    "oknot(6,3, true)"
   ]
  },
  {
   "cell_type": "code",
   "execution_count": 3,
   "metadata": {},
   "outputs": [
    {
     "data": {
      "text/plain": [
       "knotu"
      ]
     },
     "execution_count": 3,
     "metadata": {},
     "output_type": "execute_result"
    }
   ],
   "source": [
    "\"\"\"\n",
    "    knotu(n, c)\n",
    "Generate a B-spline periodic uniform knot vector over `n` control vertices.\n",
    "\n",
    "In a periodic uniform knot vector the knot values are evenly spaced.\n",
    "Moreover each base is a translate of the others as it could be defined like:\n",
    "```tex\n",
    "N_{i, k}(t) = N_{i-1, k}(t-1) = N_{i+1, k}(t+1)\n",
    "```\n",
    "\n",
    "```jldoctest\n",
    "julia> knotu(5, 2)\n",
    "7-element Array{Int64,1}:\n",
    " 0\n",
    " 1\n",
    " 2\n",
    " 3\n",
    " 4\n",
    " 5\n",
    " 6\n",
    "```\n",
    "\"\"\"\n",
    "\n",
    "function knotu(n::Int64, c::Int64)::Array{Int64}\n",
    "    x=Int64[];\n",
    "    nplusc=n+c;\n",
    "    nplus2=n+2;\n",
    "    for i=1:nplusc\n",
    "        push!(x, i-1);\n",
    "    end\n",
    "    return x;\n",
    "end"
   ]
  },
  {
   "cell_type": "code",
   "execution_count": 4,
   "metadata": {},
   "outputs": [],
   "source": [
    "B = [0.0 0.0; 0.0 2.0; 2.0 2.0]::Array{Float64, 2};\n",
    "n = length(B[:,1])::Int64 -1;\n",
    "k = 3::Int64;\n",
    "kvec = convert(Array{Float64}, knot(n, k))::Array{Float64};"
   ]
  },
  {
   "cell_type": "markdown",
   "metadata": {},
   "source": [
    "----\n",
    "# Tests\n",
    "----"
   ]
  },
  {
   "cell_type": "code",
   "execution_count": 17,
   "metadata": {},
   "outputs": [
    {
     "data": {
      "text/plain": [
       "base (generic function with 1 method)"
      ]
     },
     "execution_count": 17,
     "metadata": {},
     "output_type": "execute_result"
    }
   ],
   "source": [
    "function base(i::Int64, k::Int64, t::Float64, x::Array{Float64})\n",
    "    if k==1\n",
    "        if t>x[i] && t<x[i+1]\n",
    "            return 1\n",
    "        else\n",
    "            return 0\n",
    "        end\n",
    "    else\n",
    "        return ((t-x[i])*base(i, k-1, t, x))/(x[i+k-1]-x[i]) + ((x[i+k]-t)*base(i+1,k-1,t,x))/(x[i+k]-x[i+1])\n",
    "    end\n",
    "end"
   ]
  },
  {
   "cell_type": "code",
   "execution_count": 6,
   "metadata": {},
   "outputs": [
    {
     "data": {
      "text/plain": [
       "position (generic function with 1 method)"
      ]
     },
     "execution_count": 6,
     "metadata": {},
     "output_type": "execute_result"
    }
   ],
   "source": [
    "function position(t::Float64, B::Array{Float64, 2}, x::Array{Float64})\n",
    "    local acc = 0.0;\n",
    "    local n = length(B[:,1])::Int64\n",
    "    for i = 1 : n+1\n",
    "        for k = 2 : n+1\n",
    "            acc = acc + B[i, 1] + base(i,k,t,x)\n",
    "        end\n",
    "    end\n",
    "end"
   ]
  },
  {
   "cell_type": "code",
   "execution_count": 7,
   "metadata": {},
   "outputs": [
    {
     "data": {
      "text/plain": [
       "f (generic function with 1 method)"
      ]
     },
     "execution_count": 7,
     "metadata": {},
     "output_type": "execute_result"
    }
   ],
   "source": [
    "miabase(t) = base()"
   ]
  },
  {
   "cell_type": "code",
   "execution_count": 8,
   "metadata": {},
   "outputs": [
    {
     "ename": "LoadError",
     "evalue": "\u001b[91mBoundsError: attempt to access 5-element Array{Float64,1} at index [6]\u001b[39m",
     "output_type": "error",
     "traceback": [
      "\u001b[91mBoundsError: attempt to access 5-element Array{Float64,1} at index [6]\u001b[39m",
      "",
      "Stacktrace:",
      " [1] \u001b[1mbase\u001b[22m\u001b[22m\u001b[1m(\u001b[22m\u001b[22m::Int64, ::Int64, ::Float64, ::Array{Float64,1}\u001b[1m)\u001b[22m\u001b[22m at \u001b[1m./In[5]:9\u001b[22m\u001b[22m",
      " [2] \u001b[1mposition\u001b[22m\u001b[22m\u001b[1m(\u001b[22m\u001b[22m::Float64, ::Array{Float64,2}, ::Array{Float64,1}\u001b[1m)\u001b[22m\u001b[22m at \u001b[1m./In[6]:6\u001b[22m\u001b[22m",
      " [3] \u001b[1mcollect\u001b[22m\u001b[22m\u001b[1m(\u001b[22m\u001b[22m::Base.Generator{Array{Float64,1},#f}\u001b[1m)\u001b[22m\u001b[22m at \u001b[1m./array.jl:470\u001b[22m\u001b[22m",
      " [4] \u001b[1m#adapted_grid#33\u001b[22m\u001b[22m\u001b[1m(\u001b[22m\u001b[22m::Int64, ::Function, ::#f, ::Tuple{Float64,Float64}\u001b[1m)\u001b[22m\u001b[22m at \u001b[1m/Users/macbook/.julia/v0.6/PlotUtils/src/adapted_grid.jl:43\u001b[22m\u001b[22m",
      " [5] \u001b[1mmacro expansion\u001b[22m\u001b[22m at \u001b[1m/Users/macbook/.julia/v0.6/Plots/src/series.jl:513\u001b[22m\u001b[22m [inlined]",
      " [6] \u001b[1mapply_recipe\u001b[22m\u001b[22m\u001b[1m(\u001b[22m\u001b[22m::Dict{Symbol,Any}, ::Function, ::Float64, ::Float64\u001b[1m)\u001b[22m\u001b[22m at \u001b[1m/Users/macbook/.julia/v0.6/RecipesBase/src/RecipesBase.jl:291\u001b[22m\u001b[22m",
      " [7] \u001b[1m_process_userrecipes\u001b[22m\u001b[22m\u001b[1m(\u001b[22m\u001b[22m::Plots.Plot{Plots.GRBackend}, ::Dict{Symbol,Any}, ::Tuple{#f,Float64,Float64}\u001b[1m)\u001b[22m\u001b[22m at \u001b[1m/Users/macbook/.julia/v0.6/Plots/src/pipeline.jl:81\u001b[22m\u001b[22m",
      " [8] \u001b[1m_plot!\u001b[22m\u001b[22m\u001b[1m(\u001b[22m\u001b[22m::Plots.Plot{Plots.GRBackend}, ::Dict{Symbol,Any}, ::Tuple{#f,Float64,Float64}\u001b[1m)\u001b[22m\u001b[22m at \u001b[1m/Users/macbook/.julia/v0.6/Plots/src/plot.jl:179\u001b[22m\u001b[22m",
      " [9] \u001b[1m#plot#212\u001b[22m\u001b[22m\u001b[1m(\u001b[22m\u001b[22m::Array{Any,1}, ::Function, ::Function, ::Vararg{Any,N} where N\u001b[1m)\u001b[22m\u001b[22m at \u001b[1m/Users/macbook/.julia/v0.6/Plots/src/plot.jl:58\u001b[22m\u001b[22m",
      " [10] \u001b[1mplot\u001b[22m\u001b[22m\u001b[1m(\u001b[22m\u001b[22m::Function, ::Float64, ::Vararg{Float64,N} where N\u001b[1m)\u001b[22m\u001b[22m at \u001b[1m/Users/macbook/.julia/v0.6/Plots/src/plot.jl:52\u001b[22m\u001b[22m",
      " [11] \u001b[1minclude_string\u001b[22m\u001b[22m\u001b[1m(\u001b[22m\u001b[22m::String, ::String\u001b[1m)\u001b[22m\u001b[22m at \u001b[1m./loading.jl:522\u001b[22m\u001b[22m",
      " [12] \u001b[1mexecute_request\u001b[22m\u001b[22m\u001b[1m(\u001b[22m\u001b[22m::ZMQ.Socket, ::IJulia.Msg\u001b[1m)\u001b[22m\u001b[22m at \u001b[1m/Users/macbook/.julia/v0.6/IJulia/src/execute_request.jl:193\u001b[22m\u001b[22m",
      " [13] \u001b[1m(::Compat.#inner#6{Array{Any,1},IJulia.#execute_request,Tuple{ZMQ.Socket,IJulia.Msg}})\u001b[22m\u001b[22m\u001b[1m(\u001b[22m\u001b[22m\u001b[1m)\u001b[22m\u001b[22m at \u001b[1m/Users/macbook/.julia/v0.6/Compat/src/Compat.jl:189\u001b[22m\u001b[22m",
      " [14] \u001b[1meventloop\u001b[22m\u001b[22m\u001b[1m(\u001b[22m\u001b[22m::ZMQ.Socket\u001b[1m)\u001b[22m\u001b[22m at \u001b[1m/Users/macbook/.julia/v0.6/IJulia/src/eventloop.jl:8\u001b[22m\u001b[22m",
      " [15] \u001b[1m(::IJulia.##13#16)\u001b[22m\u001b[22m\u001b[1m(\u001b[22m\u001b[22m\u001b[1m)\u001b[22m\u001b[22m at \u001b[1m./task.jl:335\u001b[22m\u001b[22m"
     ]
    }
   ],
   "source": [
    "plot(f, 0.0, 2.0)"
   ]
  },
  {
   "cell_type": "code",
   "execution_count": 11,
   "metadata": {},
   "outputs": [
    {
     "data": {
      "text/plain": [
       "b (generic function with 1 method)"
      ]
     },
     "execution_count": 11,
     "metadata": {},
     "output_type": "execute_result"
    }
   ],
   "source": [
    "b(t) = basis(k, t, n, kvec)"
   ]
  },
  {
   "cell_type": "code",
   "execution_count": 15,
   "metadata": {},
   "outputs": [
    {
     "data": {
      "text/plain": [
       "basis (generic function with 2 methods)"
      ]
     },
     "execution_count": 15,
     "metadata": {},
     "output_type": "execute_result"
    }
   ],
   "source": [
    "function basis(c::Int64, t::Float64, npts::Int64, x::Array{Float64})::Array{Float64}\n",
    "    temp = Array{Float64}(36);\n",
    "    n = Float64[];\n",
    "    nplusc = npts + c;\n",
    "    \n",
    "#    print(knot vector is );\n",
    "#    for i=1:nplusc\n",
    "#        print(& &, i, x[i]);\n",
    "#    end\n",
    "#    print(t is &, t);\n",
    "    \n",
    "    # calculate the first order basis functions n[i][1]\n",
    "    \n",
    "    for i=1:nplusc-1\n",
    "        if (t>=x[i])&&(t<x[i+1])\n",
    "            temp[i] = 1;\n",
    "        else\n",
    "            temp[i] = 0;\n",
    "        end\n",
    "    end\n",
    "    \n",
    "    # calculate the higher order basis functions\n",
    "    for k=2:c\n",
    "        for i=1:nplusc-k\n",
    "            if temp[i] != 0    # if the lower order basis function is zero skip the calculation\n",
    "                d = ((t-x[i])*temp[i])/(x[i+k-1]-x[i]);\n",
    "            else\n",
    "                d = 0;\n",
    "            end\n",
    "            if temp[i+1] != 0    # if the lower order basis function is zero skip the calculation\n",
    "                e = ((x[i+k]-t)*temp[i+1])/(x[i+k]-x[i+1]);\n",
    "            else\n",
    "                e = 0;\n",
    "            end\n",
    "            temp[i] = d+e;\n",
    "        end\n",
    "    end\n",
    "    \n",
    "    if t == x[nplusc]    # pick the last point\n",
    "        temp[npts] = 1;\n",
    "    end\n",
    "    \n",
    "    # put in n array\n",
    "    for i=1:npts\n",
    "        push!(n, temp[i]);\n",
    "    end\n",
    "    return n;\n",
    "end"
   ]
  },
  {
   "cell_type": "code",
   "execution_count": 16,
   "metadata": {},
   "outputs": [
    {
     "data": {
      "text/plain": [
       "2-element Array{Float64,1}:\n",
       " 0.0\n",
       " 0.0"
      ]
     },
     "execution_count": 16,
     "metadata": {},
     "output_type": "execute_result"
    }
   ],
   "source": [
    "b(1.0)"
   ]
  },
  {
   "cell_type": "code",
   "execution_count": 18,
   "metadata": {},
   "outputs": [
    {
     "name": "stdout",
     "output_type": "stream",
     "text": [
      "search: \u001b[1mp\u001b[22m\u001b[1ml\u001b[22m\u001b[1mo\u001b[22m\u001b[1mt\u001b[22m \u001b[1mp\u001b[22m\u001b[1ml\u001b[22m\u001b[1mo\u001b[22m\u001b[1mt\u001b[22m! \u001b[1mp\u001b[22m\u001b[1ml\u001b[22m\u001b[1mo\u001b[22m\u001b[1mt\u001b[22mly \u001b[1mp\u001b[22m\u001b[1ml\u001b[22m\u001b[1mo\u001b[22m\u001b[1mt\u001b[22m3d \u001b[1mP\u001b[22m\u001b[1ml\u001b[22m\u001b[1mo\u001b[22m\u001b[1mt\u001b[22ms \u001b[1mp\u001b[22m\u001b[1ml\u001b[22m\u001b[1mo\u001b[22m\u001b[1mt\u001b[22m3d! \u001b[1mp\u001b[22m\u001b[1ml\u001b[22m\u001b[1mo\u001b[22m\u001b[1mt\u001b[22mlyjs \u001b[1mp\u001b[22m\u001b[1ml\u001b[22m\u001b[1mo\u001b[22m\u001b[1mt\u001b[22mattr \u001b[1mp\u001b[22m\u001b[1ml\u001b[22m\u001b[1mo\u001b[22m\u001b[1mt\u001b[22marea\n",
      "\n"
     ]
    },
    {
     "data": {
      "text/markdown": [
       "The main plot command. Use `plot` to create a new plot object, and `plot!` to add to an existing one:\n",
       "\n",
       "```\n",
       "    plot(args...; kw...)                  # creates a new plot window, and sets it to be the current\n",
       "    plot!(args...; kw...)                 # adds to the `current`\n",
       "    plot!(plotobj, args...; kw...)        # adds to the plot `plotobj`\n",
       "```\n",
       "\n",
       "There are lots of ways to pass in data, and lots of keyword arguments... just try it and it will likely work as expected. When you pass in matrices, it splits by columns. To see the list of available attributes, use the `plotattr([attr])` function, where `attr` is the symbol `:Series:`, `:Subplot:`, `:Plot` or `:Axis`. Pass any attribute to `plotattr` as a String to look up its docstring; e.g. `plotattr(\"seriestype\")`.\n"
      ],
      "text/plain": [
       "The main plot command. Use `plot` to create a new plot object, and `plot!` to add to an existing one:\n",
       "\n",
       "```\n",
       "    plot(args...; kw...)                  # creates a new plot window, and sets it to be the current\n",
       "    plot!(args...; kw...)                 # adds to the `current`\n",
       "    plot!(plotobj, args...; kw...)        # adds to the plot `plotobj`\n",
       "```\n",
       "\n",
       "There are lots of ways to pass in data, and lots of keyword arguments... just try it and it will likely work as expected. When you pass in matrices, it splits by columns. To see the list of available attributes, use the `plotattr([attr])` function, where `attr` is the symbol `:Series:`, `:Subplot:`, `:Plot` or `:Axis`. Pass any attribute to `plotattr` as a String to look up its docstring; e.g. `plotattr(\"seriestype\")`.\n"
      ]
     },
     "execution_count": 18,
     "metadata": {},
     "output_type": "execute_result"
    }
   ],
   "source": [
    "?plot"
   ]
  },
  {
   "cell_type": "code",
   "execution_count": 28,
   "metadata": {},
   "outputs": [
    {
     "name": "stdout",
     "output_type": "stream",
     "text": [
      "[0.0, 1.0, 0.0][0.0, 0.9, 0.1][0.0, 0.8, 0.2][0.0, 0.7, 0.3][0.0, 0.6, 0.4][0.0, 0.5, 0.5][0.0, 0.4, 0.6][0.0, 0.3, 0.7][0.0, 0.2, 0.8][0.0, 0.1, 0.9][0.0, 1.11022e-16, 1.0]"
     ]
    }
   ],
   "source": [
    "i = 0.0;\n",
    "while i < 1 \n",
    "   print(basis(2, i, 3, knotVec))\n",
    "    i += 0.1\n",
    "end"
   ]
  },
  {
   "cell_type": "code",
   "execution_count": 34,
   "metadata": {},
   "outputs": [
    {
     "data": {
      "text/plain": [
       "DataType"
      ]
     },
     "execution_count": 34,
     "metadata": {},
     "output_type": "execute_result"
    }
   ],
   "source": [
    "typeof(acc)"
   ]
  },
  {
   "cell_type": "code",
   "execution_count": 18,
   "metadata": {},
   "outputs": [
    {
     "data": {
      "text/plain": [
       "#b"
      ]
     },
     "execution_count": 18,
     "metadata": {},
     "output_type": "execute_result"
    }
   ],
   "source": [
    "typeof(b)"
   ]
  },
  {
   "cell_type": "code",
   "execution_count": 19,
   "metadata": {},
   "outputs": [
    {
     "data": {
      "text/plain": [
       "1×3 Array{#b,2}:\n",
       " b  b  b"
      ]
     },
     "execution_count": 19,
     "metadata": {},
     "output_type": "execute_result"
    }
   ],
   "source": [
    "a = [b b b]"
   ]
  },
  {
   "cell_type": "code",
   "execution_count": 21,
   "metadata": {},
   "outputs": [
    {
     "data": {
      "text/plain": [
       "2-element Array{Float64,1}:\n",
       " 0.0\n",
       " 0.0"
      ]
     },
     "execution_count": 21,
     "metadata": {},
     "output_type": "execute_result"
    }
   ],
   "source": [
    "a[1](1.0)"
   ]
  },
  {
   "cell_type": "code",
   "execution_count": 26,
   "metadata": {},
   "outputs": [
    {
     "data": {
      "text/plain": [
       "mybool (generic function with 2 methods)"
      ]
     },
     "execution_count": 26,
     "metadata": {},
     "output_type": "execute_result"
    }
   ],
   "source": [
    "function mybool(flag=true::Bool)\n",
    "    print(flag)\n",
    "end"
   ]
  },
  {
   "cell_type": "code",
   "execution_count": 29,
   "metadata": {},
   "outputs": [
    {
     "name": "stdout",
     "output_type": "stream",
     "text": [
      "true"
     ]
    }
   ],
   "source": [
    "mybool()"
   ]
  },
  {
   "cell_type": "code",
   "execution_count": 31,
   "metadata": {},
   "outputs": [
    {
     "data": {
      "text/plain": [
       "6-element Array{Float64,1}:\n",
       " 0.0\n",
       " 0.0\n",
       " 1.0\n",
       " 2.0\n",
       " 3.0\n",
       " 3.0"
      ]
     },
     "execution_count": 31,
     "metadata": {},
     "output_type": "execute_result"
    }
   ],
   "source": [
    "oknot(5,2)"
   ]
  },
  {
   "cell_type": "code",
   "execution_count": 33,
   "metadata": {},
   "outputs": [
    {
     "name": "stdout",
     "output_type": "stream",
     "text": [
      "12"
     ]
    }
   ],
   "source": [
    "for i=1:2\n",
    "    print(i)\n",
    "end"
   ]
  },
  {
   "cell_type": "code",
   "execution_count": null,
   "metadata": {},
   "outputs": [],
   "source": []
  }
 ],
 "metadata": {
  "kernelspec": {
   "display_name": "Julia 0.6.4",
   "language": "julia",
   "name": "julia-0.6"
  },
  "language_info": {
   "file_extension": ".jl",
   "mimetype": "application/julia",
   "name": "julia",
   "version": "0.6.4"
  }
 },
 "nbformat": 4,
 "nbformat_minor": 2
}
