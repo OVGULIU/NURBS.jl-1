{
 "cells": [
  {
   "cell_type": "markdown",
   "metadata": {},
   "source": [
    "# Circonferenza Julia\n"
   ]
  },
  {
   "cell_type": "markdown",
   "metadata": {},
   "source": [
    "Versione di Giuseppe Santorelli"
   ]
  },
  {
   "cell_type": "code",
   "execution_count": 1,
   "metadata": {},
   "outputs": [],
   "source": [
    "using PyPlot"
   ]
  },
  {
   "cell_type": "code",
   "execution_count": 2,
   "metadata": {},
   "outputs": [
    {
     "data": {
      "text/plain": [
       "1×12 Array{Float64,2}:\n",
       " 0.0  1.0  0.0  0.552284  1.0  0.0  1.0  0.552284  0.0  1.0  0.0  0.0"
      ]
     },
     "execution_count": 2,
     "metadata": {},
     "output_type": "execute_result"
    }
   ],
   "source": [
    "A=[0 1 0 0.552284 1 0 1 0.552284 0 1 0 0]"
   ]
  },
  {
   "cell_type": "code",
   "execution_count": 3,
   "metadata": {},
   "outputs": [
    {
     "data": {
      "image/png": "[encoded data removed]",
      "text/plain": [
       "PyPlot.Figure(PyObject <Figure size 640x480 with 1 Axes>)"
      ]
     },
     "metadata": {},
     "output_type": "display_data"
    }
   ],
   "source": [
    "for i in range(1,3,4)\n",
    "    plot(A[i],A[i+1],\"ro\")\n",
    "end"
   ]
  },
  {
   "cell_type": "code",
   "execution_count": 4,
   "metadata": {},
   "outputs": [
    {
     "data": {
      "text/plain": [
       "knot (generic function with 1 method)"
      ]
     },
     "execution_count": 4,
     "metadata": {},
     "output_type": "execute_result"
    }
   ],
   "source": [
    "function knot(n::Int64,c::Int64)\n",
    "    \n",
    "    nplusc=n+c\n",
    "    nplus2=n+2\n",
    "    x=Array{Float64}(nplusc)\n",
    "    \n",
    "    x[1]=0\n",
    "    \n",
    "    for i=2:nplusc\n",
    "        if i>c && i<nplus2\n",
    "            x[i]=x[i-1]+1\n",
    "        else\n",
    "            x[i]=x[i-1]\n",
    "        end\n",
    "    end\n",
    "    return x\n",
    "end"
   ]
  },
  {
   "cell_type": "code",
   "execution_count": 8,
   "metadata": {},
   "outputs": [
    {
     "data": {
      "text/plain": [
       "basis (generic function with 1 method)"
      ]
     },
     "execution_count": 8,
     "metadata": {},
     "output_type": "execute_result"
    }
   ],
   "source": [
    "function basis(c::Int64,t::Float64,npts::Int64,x::Array{Float64})\n",
    "    \n",
    "    n = zeros(Float64,1,36)\n",
    "    nplusc = npts+c\n",
    "    temp = Array{Float64}(36)\n",
    "    \n",
    "    #calculate the first order basis functions n[i][1]\n",
    "    for i=1:nplusc-1\n",
    "        if t>=x[i] && t<x[i+1]\n",
    "            temp[i]=1\n",
    "        else\n",
    "            temp[i]=0\n",
    "        end\n",
    "    end\n",
    "    \n",
    "    #calculate the higher order basis functions\n",
    "    for k=2:c\n",
    "        for i=1:nplusc-k\n",
    "            if temp[i]!=0\n",
    "                d=((t-x[i])*temp[i])/(x[i+k-1]-x[i])\n",
    "            else\n",
    "                d=0\n",
    "            end\n",
    "            if temp[i+1]!=0\n",
    "                e=((x[i+k]-t)*temp[i+1])/(x[i+k]-x[i+1])\n",
    "            else\n",
    "                e=0\n",
    "            end\n",
    "            temp[i]=d+e\n",
    "        end\n",
    "    end\n",
    "    \n",
    "    if t==x[nplusc]\n",
    "        temp[npts]=1\n",
    "    end\n",
    "    \n",
    "    #put in n array\n",
    "    for i=1:npts\n",
    "        n[1,i]=temp[i]\n",
    "    end\n",
    "    if t==x[nplusc]\n",
    "        n[1,npts]=1\n",
    "    end\n",
    "    return n[1,1:npts]\n",
    "end   "
   ]
  },
  {
   "cell_type": "code",
   "execution_count": 9,
   "metadata": {},
   "outputs": [
    {
     "data": {
      "text/plain": [
       "bspline (generic function with 1 method)"
      ]
     },
     "execution_count": 9,
     "metadata": {},
     "output_type": "execute_result"
    }
   ],
   "source": [
    "function bspline(npts::Int64,c::Int64,p1::Int64,b::Array{Float64})\n",
    "    \n",
    "    nplusc=npts+c\n",
    "    p=Array{Float64}(3*p1)\n",
    "    \n",
    "    x=knot(npts,c)\n",
    "    \n",
    "    icount=0\n",
    "    t=0.\n",
    "    \n",
    "    step=x[nplusc]/(p1-1)\n",
    "    \n",
    "    for i1=1:p1\n",
    "        if x[nplusc]-t<5e-6\n",
    "            t=x[nplusc]\n",
    "        end\n",
    "        \n",
    "        nbasis=basis(c,t,npts,x)\n",
    "        \n",
    "        for j=1:3\n",
    "            jcount=j\n",
    "            p[icount+j]=0\n",
    "            for i=1:npts\n",
    "                temp=nbasis[i]*b[jcount]\n",
    "                p[icount+j]=p[icount+j]+temp\n",
    "                jcount=jcount+3\n",
    "            end\n",
    "        end\n",
    "        \n",
    "        icount=icount+3\n",
    "        t=t+step\n",
    "    end\n",
    "    \n",
    "    return p\n",
    "end"
   ]
  },
  {
   "cell_type": "code",
   "execution_count": 10,
   "metadata": {},
   "outputs": [
    {
     "data": {
      "text/plain": [
       "300-element Array{Float64,1}:\n",
       " 0.0      \n",
       " 1.0      \n",
       " 0.0      \n",
       " 0.0221805\n",
       " 0.999909 \n",
       " 0.0      \n",
       " 0.0440929\n",
       " 0.999635 \n",
       " 0.0      \n",
       " 0.0657372\n",
       " 0.999178 \n",
       " 0.0      \n",
       " 0.0871134\n",
       " ⋮        \n",
       " 0.999178 \n",
       " 0.0657372\n",
       " 0.0      \n",
       " 0.999635 \n",
       " 0.0440929\n",
       " 0.0      \n",
       " 0.999909 \n",
       " 0.0221805\n",
       " 0.0      \n",
       " 1.0      \n",
       " 0.0      \n",
       " 0.0      "
      ]
     },
     "execution_count": 10,
     "metadata": {},
     "output_type": "execute_result"
    }
   ],
   "source": [
    "curve=bspline(4,3,100,A)"
   ]
  },
  {
   "cell_type": "code",
   "execution_count": 11,
   "metadata": {},
   "outputs": [
    {
     "data": {
      "image/png": "[encoded data removed]",
      "text/plain": [
       "PyPlot.Figure(PyObject <Figure size 640x480 with 1 Axes>)"
      ]
     },
     "metadata": {},
     "output_type": "display_data"
    }
   ],
   "source": [
    "for i in range(1,3,100)\n",
    "    plot(curve[i],curve[i+1],\"o\")\n",
    "end"
   ]
  },
  {
   "cell_type": "code",
   "execution_count": 13,
   "metadata": {},
   "outputs": [
    {
     "data": {
      "text/plain": [
       "100-element Array{Float64,1}:\n",
       " 0.0\n",
       " 0.0\n",
       " 0.0\n",
       " 0.0\n",
       " 0.0\n",
       " 0.0\n",
       " 0.0\n",
       " 0.0\n",
       " 0.0\n",
       " 0.0\n",
       " 0.0\n",
       " 0.0\n",
       " 0.0\n",
       " ⋮  \n",
       " 0.0\n",
       " 0.0\n",
       " 0.0\n",
       " 0.0\n",
       " 0.0\n",
       " 0.0\n",
       " 0.0\n",
       " 0.0\n",
       " 0.0\n",
       " 0.0\n",
       " 0.0\n",
       " 0.0"
      ]
     },
     "execution_count": 13,
     "metadata": {},
     "output_type": "execute_result"
    }
   ],
   "source": [
    "x=zeros(100)"
   ]
  },
  {
   "cell_type": "code",
   "execution_count": 14,
   "metadata": {},
   "outputs": [
    {
     "data": {
      "text/plain": [
       "100-element Array{Float64,1}:\n",
       " 0.0\n",
       " 0.0\n",
       " 0.0\n",
       " 0.0\n",
       " 0.0\n",
       " 0.0\n",
       " 0.0\n",
       " 0.0\n",
       " 0.0\n",
       " 0.0\n",
       " 0.0\n",
       " 0.0\n",
       " 0.0\n",
       " ⋮  \n",
       " 0.0\n",
       " 0.0\n",
       " 0.0\n",
       " 0.0\n",
       " 0.0\n",
       " 0.0\n",
       " 0.0\n",
       " 0.0\n",
       " 0.0\n",
       " 0.0\n",
       " 0.0\n",
       " 0.0"
      ]
     },
     "execution_count": 14,
     "metadata": {},
     "output_type": "execute_result"
    }
   ],
   "source": [
    "y=zeros(100)"
   ]
  },
  {
   "cell_type": "code",
   "execution_count": 18,
   "metadata": {},
   "outputs": [],
   "source": [
    "for i=1:100\n",
    "    x[i]=curve[3*i-2]\n",
    "end"
   ]
  },
  {
   "cell_type": "code",
   "execution_count": 19,
   "metadata": {},
   "outputs": [],
   "source": [
    "for i=1:100\n",
    "    y[i]=curve[3*i-1]\n",
    "end"
   ]
  },
  {
   "cell_type": "code",
   "execution_count": 20,
   "metadata": {},
   "outputs": [
    {
     "data": {
      "image/png": "[encoded data removed]",
      "text/plain": [
       "PyPlot.Figure(PyObject <Figure size 640x480 with 1 Axes>)"
      ]
     },
     "metadata": {},
     "output_type": "display_data"
    },
    {
     "data": {
      "text/plain": [
       "1-element Array{PyCall.PyObject,1}:\n",
       " PyObject <matplotlib.lines.Line2D object at 0x7f4f505df450>"
      ]
     },
     "execution_count": 20,
     "metadata": {},
     "output_type": "execute_result"
    }
   ],
   "source": [
    "plot(x,y)"
   ]
  },
  {
   "cell_type": "code",
   "execution_count": null,
   "metadata": {},
   "outputs": [],
   "source": []
  }
 ],
 "metadata": {
  "kernelspec": {
   "display_name": "Julia 0.6.4",
   "language": "julia",
   "name": "julia-0.6"
  },
  "language_info": {
   "file_extension": ".jl",
   "mimetype": "application/julia",
   "name": "julia",
   "version": "0.6.4"
  }
 },
 "nbformat": 4,
 "nbformat_minor": 2
}
